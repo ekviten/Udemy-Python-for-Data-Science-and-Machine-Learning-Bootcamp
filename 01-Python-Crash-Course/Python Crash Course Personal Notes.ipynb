{
 "cells": [
  {
   "cell_type": "code",
   "execution_count": 1,
   "id": "6826141e-01c5-4f5b-88e7-e23696e557a2",
   "metadata": {},
   "outputs": [],
   "source": [
    "# String Slicing"
   ]
  },
  {
   "cell_type": "code",
   "execution_count": 3,
   "id": "7de323a0-99ef-4de2-8fd8-e9b6b28ee47c",
   "metadata": {},
   "outputs": [],
   "source": [
    "s = 'abcdefghijk'"
   ]
  },
  {
   "cell_type": "code",
   "execution_count": 5,
   "id": "4c69b8b2-6550-4e37-beb7-b803048fe28c",
   "metadata": {},
   "outputs": [
    {
     "data": {
      "text/plain": [
       "'abcdefghijk'"
      ]
     },
     "execution_count": 5,
     "metadata": {},
     "output_type": "execute_result"
    }
   ],
   "source": [
    "# zero to end of dta\n",
    "s[0:]"
   ]
  },
  {
   "cell_type": "code",
   "execution_count": 7,
   "id": "71384e3d-05f3-4fa7-87fc-f288474cec67",
   "metadata": {},
   "outputs": [
    {
     "data": {
      "text/plain": [
       "'abc'"
      ]
     },
     "execution_count": 7,
     "metadata": {},
     "output_type": "execute_result"
    }
   ],
   "source": [
    "# 0 to second element\n",
    "s[:3]"
   ]
  },
  {
   "cell_type": "code",
   "execution_count": 9,
   "id": "aae97326-f43e-4ac6-ae89-e3d824f058db",
   "metadata": {},
   "outputs": [],
   "source": [
    "# Lists"
   ]
  },
  {
   "cell_type": "code",
   "execution_count": 11,
   "id": "26d65680-0998-442f-a1bb-d4e20a8c8d9e",
   "metadata": {},
   "outputs": [],
   "source": [
    "my_list = ['a', 'b', 'c']"
   ]
  },
  {
   "cell_type": "code",
   "execution_count": 15,
   "id": "fe4201fb-8009-4b00-8eff-b43e90cc0e25",
   "metadata": {},
   "outputs": [],
   "source": [
    "# add value to end of list\n",
    "my_list.append('d')"
   ]
  },
  {
   "cell_type": "code",
   "execution_count": 17,
   "id": "90f6952b-74ce-4399-a3c7-aeb24d07d17b",
   "metadata": {},
   "outputs": [
    {
     "data": {
      "text/plain": [
       "['a', 'b', 'c', 'd']"
      ]
     },
     "execution_count": 17,
     "metadata": {},
     "output_type": "execute_result"
    }
   ],
   "source": [
    "my_list"
   ]
  },
  {
   "cell_type": "code",
   "execution_count": 19,
   "id": "6b4bd30a-8760-4785-b30d-1dfadf20ce0f",
   "metadata": {},
   "outputs": [],
   "source": [
    "# change element of list value\n",
    "my_list[0] = 'New'"
   ]
  },
  {
   "cell_type": "code",
   "execution_count": 21,
   "id": "226cd6a3-74bd-406d-a2d2-a89da4d54049",
   "metadata": {},
   "outputs": [
    {
     "data": {
      "text/plain": [
       "['New', 'b', 'c', 'd']"
      ]
     },
     "execution_count": 21,
     "metadata": {},
     "output_type": "execute_result"
    }
   ],
   "source": [
    "my_list"
   ]
  },
  {
   "cell_type": "code",
   "execution_count": 23,
   "id": "c05456cc-968b-4742-987b-0b7cf0122e58",
   "metadata": {},
   "outputs": [],
   "source": [
    "# Nest lists in eachother"
   ]
  },
  {
   "cell_type": "code",
   "execution_count": 33,
   "id": "50c0d727-4858-47ad-811e-e9c5c9f8739f",
   "metadata": {},
   "outputs": [],
   "source": [
    "nest = [1, 2, [3, 4]]"
   ]
  },
  {
   "cell_type": "code",
   "execution_count": 31,
   "id": "744deb21-e346-4555-a567-0412def8a9bf",
   "metadata": {},
   "outputs": [
    {
     "data": {
      "text/plain": [
       "2"
      ]
     },
     "execution_count": 31,
     "metadata": {},
     "output_type": "execute_result"
    }
   ],
   "source": [
    "nest[1]"
   ]
  },
  {
   "cell_type": "code",
   "execution_count": 27,
   "id": "9f408815-b822-4aa5-b42a-5418b2db27de",
   "metadata": {},
   "outputs": [
    {
     "data": {
      "text/plain": [
       "[3, 4]"
      ]
     },
     "execution_count": 27,
     "metadata": {},
     "output_type": "execute_result"
    }
   ],
   "source": [
    "nest[2]"
   ]
  },
  {
   "cell_type": "code",
   "execution_count": 35,
   "id": "7581a6c0-8aa4-4824-b27e-bc6c1e973a31",
   "metadata": {},
   "outputs": [
    {
     "data": {
      "text/plain": [
       "4"
      ]
     },
     "execution_count": 35,
     "metadata": {},
     "output_type": "execute_result"
    }
   ],
   "source": [
    "# get elements in the nested list\n",
    "# nest[list location][list value location]\n",
    "nest[2][1]"
   ]
  },
  {
   "cell_type": "code",
   "execution_count": 39,
   "id": "75ed47dd-cc83-4232-a660-53c9804a025d",
   "metadata": {},
   "outputs": [],
   "source": [
    "nest2 = [1,2,3,[4,5,['target']]]"
   ]
  },
  {
   "cell_type": "code",
   "execution_count": 41,
   "id": "915e5a74-fcdd-40c4-b9d1-ef057db4a96e",
   "metadata": {},
   "outputs": [
    {
     "data": {
      "text/plain": [
       "[4, 5, ['target']]"
      ]
     },
     "execution_count": 41,
     "metadata": {},
     "output_type": "execute_result"
    }
   ],
   "source": [
    "nest2[3]"
   ]
  },
  {
   "cell_type": "code",
   "execution_count": 49,
   "id": "1e568a23-d6c5-49a1-bdd7-ca79c28d1c1d",
   "metadata": {},
   "outputs": [
    {
     "data": {
      "text/plain": [
       "'target'"
      ]
     },
     "execution_count": 49,
     "metadata": {},
     "output_type": "execute_result"
    }
   ],
   "source": [
    "#grab target\n",
    "#[list location1][listlocation2 in list 1][value]\n",
    "nest2[3][2][0]"
   ]
  },
  {
   "cell_type": "code",
   "execution_count": 51,
   "id": "83344fc3-d94c-4cf0-9885-a838aef07301",
   "metadata": {},
   "outputs": [],
   "source": [
    "# Dictonary"
   ]
  },
  {
   "cell_type": "code",
   "execution_count": 61,
   "id": "6d1a2cc6-2091-4be0-94c1-34e3c0dd6334",
   "metadata": {},
   "outputs": [],
   "source": [
    "#can stor anything"
   ]
  },
  {
   "cell_type": "code",
   "execution_count": 53,
   "id": "dcc45cda-4b33-49af-b070-c21c20b4f4e8",
   "metadata": {},
   "outputs": [],
   "source": [
    "d = {'key1' : 'value', 'key2': 123}"
   ]
  },
  {
   "cell_type": "code",
   "execution_count": 55,
   "id": "b6219cc3-b53d-465b-9970-619054a54155",
   "metadata": {},
   "outputs": [
    {
     "data": {
      "text/plain": [
       "'value'"
      ]
     },
     "execution_count": 55,
     "metadata": {},
     "output_type": "execute_result"
    }
   ],
   "source": [
    "d['key1']"
   ]
  },
  {
   "cell_type": "code",
   "execution_count": 57,
   "id": "c3e179cd-e31d-45d8-a7b4-c29a4d53fb32",
   "metadata": {},
   "outputs": [],
   "source": [
    "d = {'k1' : [1,2,3]}"
   ]
  },
  {
   "cell_type": "code",
   "execution_count": 59,
   "id": "3713b931-44b9-4262-80b0-5286cd2c3d77",
   "metadata": {},
   "outputs": [
    {
     "data": {
      "text/plain": [
       "[1, 2, 3]"
      ]
     },
     "execution_count": 59,
     "metadata": {},
     "output_type": "execute_result"
    }
   ],
   "source": [
    "d['k1']"
   ]
  },
  {
   "cell_type": "code",
   "execution_count": 69,
   "id": "87bea6ae-f15f-4fa5-91a1-83aa24df89af",
   "metadata": {},
   "outputs": [
    {
     "data": {
      "text/plain": [
       "1"
      ]
     },
     "execution_count": 69,
     "metadata": {},
     "output_type": "execute_result"
    }
   ],
   "source": [
    "# can access lists in dict\n",
    "d['k1'][0]"
   ]
  },
  {
   "cell_type": "code",
   "execution_count": 67,
   "id": "24979f31-af79-4e46-a747-392c44d6e880",
   "metadata": {},
   "outputs": [],
   "source": [
    "#can also set new variable to value in dict\n",
    "my_list = d['k1']"
   ]
  },
  {
   "cell_type": "code",
   "execution_count": 65,
   "id": "654c4be7-21b4-45fe-b025-5f11c85569d0",
   "metadata": {},
   "outputs": [
    {
     "data": {
      "text/plain": [
       "[1, 2, 3]"
      ]
     },
     "execution_count": 65,
     "metadata": {},
     "output_type": "execute_result"
    }
   ],
   "source": [
    "my_list"
   ]
  },
  {
   "cell_type": "code",
   "execution_count": 71,
   "id": "e6794275-aef2-479b-8b9f-dd5b51ea9054",
   "metadata": {},
   "outputs": [],
   "source": [
    "# can have dict in dict"
   ]
  },
  {
   "cell_type": "code",
   "execution_count": 73,
   "id": "6d11ff0e-49a6-4bce-9084-750eb9a8e359",
   "metadata": {},
   "outputs": [],
   "source": [
    "d = {'k1' : {'innerkey' : [1,2,3]}}"
   ]
  },
  {
   "cell_type": "code",
   "execution_count": 77,
   "id": "ba28f474-b035-4bbb-8583-e4a024af3001",
   "metadata": {},
   "outputs": [
    {
     "data": {
      "text/plain": [
       "{'innerkey': [1, 2, 3]}"
      ]
     },
     "execution_count": 77,
     "metadata": {},
     "output_type": "execute_result"
    }
   ],
   "source": [
    "d['k1']"
   ]
  },
  {
   "cell_type": "code",
   "execution_count": 79,
   "id": "c5fa6d57-3235-4fc8-85a0-c74dbbdd1864",
   "metadata": {},
   "outputs": [
    {
     "data": {
      "text/plain": [
       "[1, 2, 3]"
      ]
     },
     "execution_count": 79,
     "metadata": {},
     "output_type": "execute_result"
    }
   ],
   "source": [
    "d['k1']['innerkey']"
   ]
  },
  {
   "cell_type": "code",
   "execution_count": 81,
   "id": "679bef45-6e18-4c71-a336-ad65ab6feebc",
   "metadata": {},
   "outputs": [],
   "source": [
    "# Set"
   ]
  },
  {
   "cell_type": "code",
   "execution_count": 83,
   "id": "325d8cf4-237a-4927-ab0f-a0aa37ca6356",
   "metadata": {},
   "outputs": [],
   "source": [
    "s = {1,1,2,3,3,4,4,}"
   ]
  },
  {
   "cell_type": "code",
   "execution_count": 85,
   "id": "348c2a37-a164-4301-af3d-e859bd371186",
   "metadata": {},
   "outputs": [
    {
     "data": {
      "text/plain": [
       "{1, 2, 3, 4}"
      ]
     },
     "execution_count": 85,
     "metadata": {},
     "output_type": "execute_result"
    }
   ],
   "source": [
    "# will always just return unique values\n",
    "s"
   ]
  },
  {
   "cell_type": "code",
   "execution_count": 89,
   "id": "b94be800-b10a-4bb0-88e2-ab037d59c51c",
   "metadata": {},
   "outputs": [
    {
     "data": {
      "text/plain": [
       "{1, 2, 3, 4, 5}"
      ]
     },
     "execution_count": 89,
     "metadata": {},
     "output_type": "execute_result"
    }
   ],
   "source": [
    "# can add values with .add(value)\n",
    "s.add(5)\n",
    "s"
   ]
  },
  {
   "cell_type": "code",
   "execution_count": 91,
   "id": "e764ae07-b28f-4d1a-ac9e-63c718b838e1",
   "metadata": {},
   "outputs": [],
   "source": [
    "# Loops"
   ]
  },
  {
   "cell_type": "code",
   "execution_count": 97,
   "id": "5a49993c-2c03-4110-9607-9364f6160871",
   "metadata": {},
   "outputs": [],
   "source": [
    "seq = [1, 2, 3, 4, 5]"
   ]
  },
  {
   "cell_type": "code",
   "execution_count": 99,
   "id": "caf1ee3a-ff8e-418b-a53d-7a775b499fbf",
   "metadata": {},
   "outputs": [],
   "source": [
    "## While Loops"
   ]
  },
  {
   "cell_type": "code",
   "execution_count": 101,
   "id": "3b3855ce-f07f-4778-a2ef-68fdce575da6",
   "metadata": {},
   "outputs": [
    {
     "name": "stdout",
     "output_type": "stream",
     "text": [
      "i is: 1\n",
      "i is: 2\n",
      "i is: 3\n",
      "i is: 4\n"
     ]
    }
   ],
   "source": [
    "i = 1\n",
    "\n",
    "while i < 5:\n",
    "    print('i is: {}'.format(i))\n",
    "    i +=1"
   ]
  },
  {
   "cell_type": "code",
   "execution_count": 103,
   "id": "a5be4a3b-3721-4e6e-ae7d-07502ac55062",
   "metadata": {},
   "outputs": [],
   "source": [
    "## Range"
   ]
  },
  {
   "cell_type": "code",
   "execution_count": 105,
   "id": "74b3a693-22c9-4b29-8c3d-587cf873303e",
   "metadata": {},
   "outputs": [
    {
     "name": "stdout",
     "output_type": "stream",
     "text": [
      "0\n",
      "1\n",
      "2\n",
      "3\n",
      "4\n",
      "5\n"
     ]
    }
   ],
   "source": [
    "for x in range(0, 6):\n",
    "    print(x)"
   ]
  },
  {
   "cell_type": "code",
   "execution_count": 107,
   "id": "4df1ae14-1a87-45a4-9d80-0c1c7f510a2b",
   "metadata": {},
   "outputs": [
    {
     "data": {
      "text/plain": [
       "[0, 1, 2, 3, 4, 5]"
      ]
     },
     "execution_count": 107,
     "metadata": {},
     "output_type": "execute_result"
    }
   ],
   "source": [
    "#convert to list\n",
    "list(range(0,6))"
   ]
  },
  {
   "cell_type": "code",
   "execution_count": 109,
   "id": "b877c9dc-b792-4697-8032-3c830db753b1",
   "metadata": {},
   "outputs": [],
   "source": [
    "## append Lists"
   ]
  },
  {
   "cell_type": "code",
   "execution_count": 111,
   "id": "e9c54152-3369-46bf-bf48-48db4c724a0d",
   "metadata": {},
   "outputs": [],
   "source": [
    "x = [1,2,3,4]"
   ]
  },
  {
   "cell_type": "code",
   "execution_count": 113,
   "id": "8733fbc7-6c89-47c9-afd8-ba1f816630fb",
   "metadata": {},
   "outputs": [],
   "source": [
    "out = []\n",
    "\n",
    "for num in x:\n",
    "    out.append(num**2)"
   ]
  },
  {
   "cell_type": "code",
   "execution_count": 115,
   "id": "aa6f7cea-e19e-4c49-abf2-898ec11321bb",
   "metadata": {},
   "outputs": [
    {
     "data": {
      "text/plain": [
       "[1, 4, 9, 16]"
      ]
     },
     "execution_count": 115,
     "metadata": {},
     "output_type": "execute_result"
    }
   ],
   "source": [
    "out"
   ]
  },
  {
   "cell_type": "code",
   "execution_count": 117,
   "id": "272e38e4-383b-4868-beac-3943e1b52cae",
   "metadata": {},
   "outputs": [],
   "source": [
    "# simplfy using list comprehension"
   ]
  },
  {
   "cell_type": "code",
   "execution_count": 119,
   "id": "ecb61a5f-106b-41ed-8555-bebb2c116efa",
   "metadata": {},
   "outputs": [
    {
     "data": {
      "text/plain": [
       "[1, 4, 9, 16]"
      ]
     },
     "execution_count": 119,
     "metadata": {},
     "output_type": "execute_result"
    }
   ],
   "source": [
    "[num**2 for num in x]"
   ]
  },
  {
   "cell_type": "code",
   "execution_count": 121,
   "id": "bbe123f1-5c1b-4f5d-a3a9-4caaa217cfe7",
   "metadata": {},
   "outputs": [],
   "source": [
    "# in one line\n",
    "out = [num**2 for num in x]"
   ]
  },
  {
   "cell_type": "code",
   "execution_count": 123,
   "id": "1c190755-c371-4e0a-af19-d5de2b1f8fa3",
   "metadata": {},
   "outputs": [
    {
     "data": {
      "text/plain": [
       "[1, 4, 9, 16]"
      ]
     },
     "execution_count": 123,
     "metadata": {},
     "output_type": "execute_result"
    }
   ],
   "source": [
    "out"
   ]
  },
  {
   "cell_type": "code",
   "execution_count": 125,
   "id": "0610d6db-3841-4334-b82a-bf6ae871836e",
   "metadata": {},
   "outputs": [],
   "source": [
    "# Functions"
   ]
  },
  {
   "cell_type": "code",
   "execution_count": 127,
   "id": "5a13d7f7-8e0c-40f4-a90a-63c4f2ef393c",
   "metadata": {},
   "outputs": [],
   "source": [
    "def my_func(name):\n",
    "    print('hello ' + name)"
   ]
  },
  {
   "cell_type": "code",
   "execution_count": 129,
   "id": "ab542e4c-952f-4cbc-82c0-9b2851753d7d",
   "metadata": {},
   "outputs": [
    {
     "name": "stdout",
     "output_type": "stream",
     "text": [
      "hello me\n"
     ]
    }
   ],
   "source": [
    "my_func('me')"
   ]
  },
  {
   "cell_type": "code",
   "execution_count": 135,
   "id": "b95a6e7f-6e78-4231-b3ed-457f4b22cf21",
   "metadata": {},
   "outputs": [],
   "source": [
    "# returns\n",
    "def square(num):\n",
    "    \"\"\"\n",
    "    This is a docstring\n",
    "    can go multiple lines\n",
    "    this function squares a number\n",
    "    \"\"\"\n",
    "    return num**2"
   ]
  },
  {
   "cell_type": "code",
   "execution_count": 141,
   "id": "4fdd8a7b-4824-4c61-a40a-6d9d51980906",
   "metadata": {},
   "outputs": [
    {
     "data": {
      "text/plain": [
       "<function __main__.square(num)>"
      ]
     },
     "execution_count": 141,
     "metadata": {},
     "output_type": "execute_result"
    }
   ],
   "source": [
    "# click shift tab when you have curser at end of function to get output\n",
    "square"
   ]
  },
  {
   "cell_type": "code",
   "execution_count": 137,
   "id": "4104782d-73bb-4d3a-96de-347301298884",
   "metadata": {},
   "outputs": [
    {
     "data": {
      "text/plain": [
       "4"
      ]
     },
     "execution_count": 137,
     "metadata": {},
     "output_type": "execute_result"
    }
   ],
   "source": [
    "square(2)"
   ]
  },
  {
   "cell_type": "code",
   "execution_count": 143,
   "id": "5682dcb7-edeb-4a9a-9a68-2396fc7bfcde",
   "metadata": {},
   "outputs": [],
   "source": [
    "# map and filter functions"
   ]
  },
  {
   "cell_type": "code",
   "execution_count": 147,
   "id": "c938aafa-6ef0-4841-987f-33a9620eea44",
   "metadata": {},
   "outputs": [],
   "source": [
    "# need function\n",
    "def times2(var):\n",
    "    return var*2"
   ]
  },
  {
   "cell_type": "code",
   "execution_count": 155,
   "id": "5c623fa9-cb0d-4381-93ca-c5182963abbc",
   "metadata": {},
   "outputs": [],
   "source": [
    "# re write as lambda\n",
    "def times2(var): return var*2"
   ]
  },
  {
   "cell_type": "code",
   "execution_count": 165,
   "id": "baa6ac22-4bcf-4232-bc73-82c15548fe4b",
   "metadata": {},
   "outputs": [
    {
     "data": {
      "text/plain": [
       "<function __main__.<lambda>(var)>"
      ]
     },
     "execution_count": 165,
     "metadata": {},
     "output_type": "execute_result"
    }
   ],
   "source": [
    "#lambda\n",
    "#lambda |what goes in|:|what comes out|\n",
    "\n",
    "lambda var:var*2"
   ]
  },
  {
   "cell_type": "code",
   "execution_count": 149,
   "id": "1760d72b-8365-4600-8e14-baaba6ced192",
   "metadata": {},
   "outputs": [],
   "source": [
    "seq = [1,2,3,4,5]"
   ]
  },
  {
   "cell_type": "code",
   "execution_count": 161,
   "id": "05ebef40-bedf-488e-8378-b7df1e5fb60a",
   "metadata": {},
   "outputs": [
    {
     "data": {
      "text/plain": [
       "[2, 4, 6, 8, 10]"
      ]
     },
     "execution_count": 161,
     "metadata": {},
     "output_type": "execute_result"
    }
   ],
   "source": [
    "# map with def\n",
    "list(map(times2,seq))"
   ]
  },
  {
   "cell_type": "code",
   "execution_count": 163,
   "id": "64f72eed-5515-49d6-830b-12030d820da4",
   "metadata": {},
   "outputs": [
    {
     "data": {
      "text/plain": [
       "[2, 4, 6, 8, 10]"
      ]
     },
     "execution_count": 163,
     "metadata": {},
     "output_type": "execute_result"
    }
   ],
   "source": [
    "#map with lambda\n",
    "list(map(lambda var:var*2, seq))"
   ]
  },
  {
   "cell_type": "code",
   "execution_count": 167,
   "id": "17d556c9-fa8f-41ce-95d5-e434411ccbf7",
   "metadata": {},
   "outputs": [],
   "source": [
    "## Filter"
   ]
  },
  {
   "cell_type": "code",
   "execution_count": 169,
   "id": "ed6332f7-87d8-41ff-b070-0a7f43fb1432",
   "metadata": {},
   "outputs": [
    {
     "data": {
      "text/plain": [
       "<filter at 0x1c6aef33af0>"
      ]
     },
     "execution_count": 169,
     "metadata": {},
     "output_type": "execute_result"
    }
   ],
   "source": [
    "#filters for values\n",
    "filter(lambda num: num%2 == 0, seq)"
   ]
  },
  {
   "cell_type": "code",
   "execution_count": 171,
   "id": "b178b4aa-f8f2-4cf2-8b58-4a5104ba0189",
   "metadata": {},
   "outputs": [],
   "source": [
    "s = 'hello my name is Sam'"
   ]
  },
  {
   "cell_type": "code",
   "execution_count": 173,
   "id": "5aef491c-0c89-4ce2-a468-ad04d4fa96db",
   "metadata": {},
   "outputs": [
    {
     "ename": "SyntaxError",
     "evalue": "invalid syntax (3669476306.py, line 2)",
     "output_type": "error",
     "traceback": [
      "\u001b[1;36m  Cell \u001b[1;32mIn[173], line 2\u001b[1;36m\u001b[0m\n\u001b[1;33m    s.\u001b[0m\n\u001b[1;37m      ^\u001b[0m\n\u001b[1;31mSyntaxError\u001b[0m\u001b[1;31m:\u001b[0m invalid syntax\n"
     ]
    }
   ],
   "source": [
    "# press tab to see all methods at end of dot\n",
    "s."
   ]
  },
  {
   "cell_type": "code",
   "execution_count": 175,
   "id": "054290a0-2f97-4d48-9f46-d1d45a11e3bd",
   "metadata": {},
   "outputs": [
    {
     "data": {
      "text/plain": [
       "'hello my name is sam'"
      ]
     },
     "execution_count": 175,
     "metadata": {},
     "output_type": "execute_result"
    }
   ],
   "source": [
    "s.lower()"
   ]
  },
  {
   "cell_type": "code",
   "execution_count": 177,
   "id": "1e56f0fb-cb3f-4870-b912-e66a469e6f31",
   "metadata": {},
   "outputs": [
    {
     "data": {
      "text/plain": [
       "'Hello My Name Is Sam'"
      ]
     },
     "execution_count": 177,
     "metadata": {},
     "output_type": "execute_result"
    }
   ],
   "source": [
    "s.title()"
   ]
  },
  {
   "cell_type": "code",
   "execution_count": 179,
   "id": "a4657242-569a-4622-b416-82bc92ea5af2",
   "metadata": {},
   "outputs": [
    {
     "data": {
      "text/plain": [
       "'HELLO MY NAME IS SAM'"
      ]
     },
     "execution_count": 179,
     "metadata": {},
     "output_type": "execute_result"
    }
   ],
   "source": [
    "s.upper()"
   ]
  },
  {
   "cell_type": "code",
   "execution_count": 181,
   "id": "97e7bc13-f42f-409d-95e6-d0e22483f7d7",
   "metadata": {},
   "outputs": [
    {
     "data": {
      "text/plain": [
       "['hello', 'my', 'name', 'is', 'Sam']"
      ]
     },
     "execution_count": 181,
     "metadata": {},
     "output_type": "execute_result"
    }
   ],
   "source": [
    "#split will split on all white space\n",
    "s.split()"
   ]
  },
  {
   "cell_type": "code",
   "execution_count": 183,
   "id": "07b45a96-5a04-494a-b55e-5d19b3e52999",
   "metadata": {},
   "outputs": [],
   "source": [
    "tweet = 'Go Sports! #Sports'"
   ]
  },
  {
   "cell_type": "code",
   "execution_count": 191,
   "id": "236d078c-ad22-4485-a5e1-bf650346b18b",
   "metadata": {},
   "outputs": [
    {
     "data": {
      "text/plain": [
       "['Go Sports! ', 'Sports']"
      ]
     },
     "execution_count": 191,
     "metadata": {},
     "output_type": "execute_result"
    }
   ],
   "source": [
    "tweet.split('#')"
   ]
  },
  {
   "cell_type": "code",
   "execution_count": 193,
   "id": "322f705c-1c67-4d35-88a9-ef03fa3c169e",
   "metadata": {},
   "outputs": [],
   "source": [
    "# Tuple unpacking"
   ]
  },
  {
   "cell_type": "code",
   "execution_count": 201,
   "id": "4e996082-9148-411c-90d9-0040a2649d65",
   "metadata": {},
   "outputs": [],
   "source": [
    "x = [(1,2),(3,4),(5,6)]"
   ]
  },
  {
   "cell_type": "code",
   "execution_count": 203,
   "id": "cdb673e3-9240-4e0f-80b1-aded44603fc0",
   "metadata": {},
   "outputs": [
    {
     "name": "stdout",
     "output_type": "stream",
     "text": [
      "(1, 2)\n",
      "(3, 4)\n",
      "(5, 6)\n"
     ]
    }
   ],
   "source": [
    "for a in x:\n",
    "    print(a)"
   ]
  },
  {
   "cell_type": "code",
   "execution_count": 209,
   "id": "9c9985ae-fa01-4421-9468-7aa65c48ad64",
   "metadata": {},
   "outputs": [
    {
     "name": "stdout",
     "output_type": "stream",
     "text": [
      "1\n",
      "3\n",
      "5\n"
     ]
    }
   ],
   "source": [
    "for (a,b) in x: \n",
    "    print (a)"
   ]
  },
  {
   "cell_type": "code",
   "execution_count": null,
   "id": "fda2634f-cd00-4d64-9946-737bab1ab1b7",
   "metadata": {},
   "outputs": [],
   "source": []
  }
 ],
 "metadata": {
  "kernelspec": {
   "display_name": "Python [conda env:base] *",
   "language": "python",
   "name": "conda-base-py"
  },
  "language_info": {
   "codemirror_mode": {
    "name": "ipython",
    "version": 3
   },
   "file_extension": ".py",
   "mimetype": "text/x-python",
   "name": "python",
   "nbconvert_exporter": "python",
   "pygments_lexer": "ipython3",
   "version": "3.12.7"
  }
 },
 "nbformat": 4,
 "nbformat_minor": 5
}
